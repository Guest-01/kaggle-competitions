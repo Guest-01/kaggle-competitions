{
 "metadata": {
  "language_info": {
   "codemirror_mode": {
    "name": "ipython",
    "version": 3
   },
   "file_extension": ".py",
   "mimetype": "text/x-python",
   "name": "python",
   "nbconvert_exporter": "python",
   "pygments_lexer": "ipython3",
   "version": "3.9.5"
  },
  "orig_nbformat": 4,
  "kernelspec": {
   "name": "python3",
   "display_name": "Python 3.9.5 64-bit ('.venv': venv)"
  },
  "interpreter": {
   "hash": "2a911f678624b4b683fb9eba38552a022b6f34dc0cccfb4e8912a9803fd3006a"
  }
 },
 "nbformat": 4,
 "nbformat_minor": 2,
 "cells": [
  {
   "source": [
    "# House Prices - Advanced Regression Techniques\n",
    "### Predict sales prices and practice feature engineering, RFs, and gradient boosting\n",
    "\n",
    "https://www.kaggle.com/c/house-prices-advanced-regression-techniques/overview"
   ],
   "cell_type": "markdown",
   "metadata": {}
  },
  {
   "source": [
    "# Imports"
   ],
   "cell_type": "markdown",
   "metadata": {}
  },
  {
   "cell_type": "code",
   "execution_count": 1,
   "metadata": {},
   "outputs": [],
   "source": [
    "import pandas as pd\n",
    "\n",
    "from sklearn.model_selection import train_test_split\n",
    "\n",
    "from category_encoders import OrdinalEncoder\n",
    "from sklearn.impute import SimpleImputer\n",
    "from sklearn.preprocessing import StandardScaler\n",
    "\n",
    "from sklearn.pipeline import make_pipeline\n",
    "from sklearn.model_selection import GridSearchCV\n",
    "\n",
    "from sklearn.metrics import mean_squared_error\n",
    "\n",
    "from keras.models import Sequential\n",
    "from keras.layers import Dense, Dropout\n",
    "from keras.wrappers.scikit_learn import KerasRegressor\n",
    "from keras.metrics import RootMeanSquaredError\n",
    "\n",
    "import warnings\n",
    "warnings.simplefilter(action='ignore', category=FutureWarning)"
   ]
  },
  {
   "source": [
    "# EDA"
   ],
   "cell_type": "markdown",
   "metadata": {}
  },
  {
   "cell_type": "code",
   "execution_count": 2,
   "metadata": {},
   "outputs": [
    {
     "output_type": "execute_result",
     "data": {
      "text/plain": [
       "        Id  MSSubClass MSZoning  LotFrontage  LotArea Street Alley LotShape  \\\n",
       "0        1          60       RL         65.0     8450   Pave   NaN      Reg   \n",
       "1        2          20       RL         80.0     9600   Pave   NaN      Reg   \n",
       "2        3          60       RL         68.0    11250   Pave   NaN      IR1   \n",
       "3        4          70       RL         60.0     9550   Pave   NaN      IR1   \n",
       "4        5          60       RL         84.0    14260   Pave   NaN      IR1   \n",
       "...    ...         ...      ...          ...      ...    ...   ...      ...   \n",
       "1455  1456          60       RL         62.0     7917   Pave   NaN      Reg   \n",
       "1456  1457          20       RL         85.0    13175   Pave   NaN      Reg   \n",
       "1457  1458          70       RL         66.0     9042   Pave   NaN      Reg   \n",
       "1458  1459          20       RL         68.0     9717   Pave   NaN      Reg   \n",
       "1459  1460          20       RL         75.0     9937   Pave   NaN      Reg   \n",
       "\n",
       "     LandContour Utilities  ... PoolArea PoolQC  Fence MiscFeature MiscVal  \\\n",
       "0            Lvl    AllPub  ...        0    NaN    NaN         NaN       0   \n",
       "1            Lvl    AllPub  ...        0    NaN    NaN         NaN       0   \n",
       "2            Lvl    AllPub  ...        0    NaN    NaN         NaN       0   \n",
       "3            Lvl    AllPub  ...        0    NaN    NaN         NaN       0   \n",
       "4            Lvl    AllPub  ...        0    NaN    NaN         NaN       0   \n",
       "...          ...       ...  ...      ...    ...    ...         ...     ...   \n",
       "1455         Lvl    AllPub  ...        0    NaN    NaN         NaN       0   \n",
       "1456         Lvl    AllPub  ...        0    NaN  MnPrv         NaN       0   \n",
       "1457         Lvl    AllPub  ...        0    NaN  GdPrv        Shed    2500   \n",
       "1458         Lvl    AllPub  ...        0    NaN    NaN         NaN       0   \n",
       "1459         Lvl    AllPub  ...        0    NaN    NaN         NaN       0   \n",
       "\n",
       "     MoSold YrSold  SaleType  SaleCondition  SalePrice  \n",
       "0         2   2008        WD         Normal     208500  \n",
       "1         5   2007        WD         Normal     181500  \n",
       "2         9   2008        WD         Normal     223500  \n",
       "3         2   2006        WD        Abnorml     140000  \n",
       "4        12   2008        WD         Normal     250000  \n",
       "...     ...    ...       ...            ...        ...  \n",
       "1455      8   2007        WD         Normal     175000  \n",
       "1456      2   2010        WD         Normal     210000  \n",
       "1457      5   2010        WD         Normal     266500  \n",
       "1458      4   2010        WD         Normal     142125  \n",
       "1459      6   2008        WD         Normal     147500  \n",
       "\n",
       "[1460 rows x 81 columns]"
      ],
      "text/html": "<div>\n<style scoped>\n    .dataframe tbody tr th:only-of-type {\n        vertical-align: middle;\n    }\n\n    .dataframe tbody tr th {\n        vertical-align: top;\n    }\n\n    .dataframe thead th {\n        text-align: right;\n    }\n</style>\n<table border=\"1\" class=\"dataframe\">\n  <thead>\n    <tr style=\"text-align: right;\">\n      <th></th>\n      <th>Id</th>\n      <th>MSSubClass</th>\n      <th>MSZoning</th>\n      <th>LotFrontage</th>\n      <th>LotArea</th>\n      <th>Street</th>\n      <th>Alley</th>\n      <th>LotShape</th>\n      <th>LandContour</th>\n      <th>Utilities</th>\n      <th>...</th>\n      <th>PoolArea</th>\n      <th>PoolQC</th>\n      <th>Fence</th>\n      <th>MiscFeature</th>\n      <th>MiscVal</th>\n      <th>MoSold</th>\n      <th>YrSold</th>\n      <th>SaleType</th>\n      <th>SaleCondition</th>\n      <th>SalePrice</th>\n    </tr>\n  </thead>\n  <tbody>\n    <tr>\n      <th>0</th>\n      <td>1</td>\n      <td>60</td>\n      <td>RL</td>\n      <td>65.0</td>\n      <td>8450</td>\n      <td>Pave</td>\n      <td>NaN</td>\n      <td>Reg</td>\n      <td>Lvl</td>\n      <td>AllPub</td>\n      <td>...</td>\n      <td>0</td>\n      <td>NaN</td>\n      <td>NaN</td>\n      <td>NaN</td>\n      <td>0</td>\n      <td>2</td>\n      <td>2008</td>\n      <td>WD</td>\n      <td>Normal</td>\n      <td>208500</td>\n    </tr>\n    <tr>\n      <th>1</th>\n      <td>2</td>\n      <td>20</td>\n      <td>RL</td>\n      <td>80.0</td>\n      <td>9600</td>\n      <td>Pave</td>\n      <td>NaN</td>\n      <td>Reg</td>\n      <td>Lvl</td>\n      <td>AllPub</td>\n      <td>...</td>\n      <td>0</td>\n      <td>NaN</td>\n      <td>NaN</td>\n      <td>NaN</td>\n      <td>0</td>\n      <td>5</td>\n      <td>2007</td>\n      <td>WD</td>\n      <td>Normal</td>\n      <td>181500</td>\n    </tr>\n    <tr>\n      <th>2</th>\n      <td>3</td>\n      <td>60</td>\n      <td>RL</td>\n      <td>68.0</td>\n      <td>11250</td>\n      <td>Pave</td>\n      <td>NaN</td>\n      <td>IR1</td>\n      <td>Lvl</td>\n      <td>AllPub</td>\n      <td>...</td>\n      <td>0</td>\n      <td>NaN</td>\n      <td>NaN</td>\n      <td>NaN</td>\n      <td>0</td>\n      <td>9</td>\n      <td>2008</td>\n      <td>WD</td>\n      <td>Normal</td>\n      <td>223500</td>\n    </tr>\n    <tr>\n      <th>3</th>\n      <td>4</td>\n      <td>70</td>\n      <td>RL</td>\n      <td>60.0</td>\n      <td>9550</td>\n      <td>Pave</td>\n      <td>NaN</td>\n      <td>IR1</td>\n      <td>Lvl</td>\n      <td>AllPub</td>\n      <td>...</td>\n      <td>0</td>\n      <td>NaN</td>\n      <td>NaN</td>\n      <td>NaN</td>\n      <td>0</td>\n      <td>2</td>\n      <td>2006</td>\n      <td>WD</td>\n      <td>Abnorml</td>\n      <td>140000</td>\n    </tr>\n    <tr>\n      <th>4</th>\n      <td>5</td>\n      <td>60</td>\n      <td>RL</td>\n      <td>84.0</td>\n      <td>14260</td>\n      <td>Pave</td>\n      <td>NaN</td>\n      <td>IR1</td>\n      <td>Lvl</td>\n      <td>AllPub</td>\n      <td>...</td>\n      <td>0</td>\n      <td>NaN</td>\n      <td>NaN</td>\n      <td>NaN</td>\n      <td>0</td>\n      <td>12</td>\n      <td>2008</td>\n      <td>WD</td>\n      <td>Normal</td>\n      <td>250000</td>\n    </tr>\n    <tr>\n      <th>...</th>\n      <td>...</td>\n      <td>...</td>\n      <td>...</td>\n      <td>...</td>\n      <td>...</td>\n      <td>...</td>\n      <td>...</td>\n      <td>...</td>\n      <td>...</td>\n      <td>...</td>\n      <td>...</td>\n      <td>...</td>\n      <td>...</td>\n      <td>...</td>\n      <td>...</td>\n      <td>...</td>\n      <td>...</td>\n      <td>...</td>\n      <td>...</td>\n      <td>...</td>\n      <td>...</td>\n    </tr>\n    <tr>\n      <th>1455</th>\n      <td>1456</td>\n      <td>60</td>\n      <td>RL</td>\n      <td>62.0</td>\n      <td>7917</td>\n      <td>Pave</td>\n      <td>NaN</td>\n      <td>Reg</td>\n      <td>Lvl</td>\n      <td>AllPub</td>\n      <td>...</td>\n      <td>0</td>\n      <td>NaN</td>\n      <td>NaN</td>\n      <td>NaN</td>\n      <td>0</td>\n      <td>8</td>\n      <td>2007</td>\n      <td>WD</td>\n      <td>Normal</td>\n      <td>175000</td>\n    </tr>\n    <tr>\n      <th>1456</th>\n      <td>1457</td>\n      <td>20</td>\n      <td>RL</td>\n      <td>85.0</td>\n      <td>13175</td>\n      <td>Pave</td>\n      <td>NaN</td>\n      <td>Reg</td>\n      <td>Lvl</td>\n      <td>AllPub</td>\n      <td>...</td>\n      <td>0</td>\n      <td>NaN</td>\n      <td>MnPrv</td>\n      <td>NaN</td>\n      <td>0</td>\n      <td>2</td>\n      <td>2010</td>\n      <td>WD</td>\n      <td>Normal</td>\n      <td>210000</td>\n    </tr>\n    <tr>\n      <th>1457</th>\n      <td>1458</td>\n      <td>70</td>\n      <td>RL</td>\n      <td>66.0</td>\n      <td>9042</td>\n      <td>Pave</td>\n      <td>NaN</td>\n      <td>Reg</td>\n      <td>Lvl</td>\n      <td>AllPub</td>\n      <td>...</td>\n      <td>0</td>\n      <td>NaN</td>\n      <td>GdPrv</td>\n      <td>Shed</td>\n      <td>2500</td>\n      <td>5</td>\n      <td>2010</td>\n      <td>WD</td>\n      <td>Normal</td>\n      <td>266500</td>\n    </tr>\n    <tr>\n      <th>1458</th>\n      <td>1459</td>\n      <td>20</td>\n      <td>RL</td>\n      <td>68.0</td>\n      <td>9717</td>\n      <td>Pave</td>\n      <td>NaN</td>\n      <td>Reg</td>\n      <td>Lvl</td>\n      <td>AllPub</td>\n      <td>...</td>\n      <td>0</td>\n      <td>NaN</td>\n      <td>NaN</td>\n      <td>NaN</td>\n      <td>0</td>\n      <td>4</td>\n      <td>2010</td>\n      <td>WD</td>\n      <td>Normal</td>\n      <td>142125</td>\n    </tr>\n    <tr>\n      <th>1459</th>\n      <td>1460</td>\n      <td>20</td>\n      <td>RL</td>\n      <td>75.0</td>\n      <td>9937</td>\n      <td>Pave</td>\n      <td>NaN</td>\n      <td>Reg</td>\n      <td>Lvl</td>\n      <td>AllPub</td>\n      <td>...</td>\n      <td>0</td>\n      <td>NaN</td>\n      <td>NaN</td>\n      <td>NaN</td>\n      <td>0</td>\n      <td>6</td>\n      <td>2008</td>\n      <td>WD</td>\n      <td>Normal</td>\n      <td>147500</td>\n    </tr>\n  </tbody>\n</table>\n<p>1460 rows × 81 columns</p>\n</div>"
     },
     "metadata": {},
     "execution_count": 2
    }
   ],
   "source": [
    "# Load and preview\n",
    "df = pd.read_csv('train.csv')\n",
    "df"
   ]
  },
  {
   "cell_type": "code",
   "execution_count": 3,
   "metadata": {},
   "outputs": [
    {
     "output_type": "stream",
     "name": "stdout",
     "text": [
      "final data shape: (1460, 76)\n"
     ]
    }
   ],
   "source": [
    "# Drop columns with too many missing value\n",
    "na = df.isna().sum()\n",
    "\n",
    "# Drop anything over 600 missing value\n",
    "df = df.drop(columns=['Alley', 'FireplaceQu', 'PoolQC', 'Fence', 'MiscFeature'])\n",
    "# Then Drop na\n",
    "# df = df.dropna()\n",
    "for col in df.columns:\n",
    "    if df[col].dtypes == 'object':\n",
    "        df[col].fillna('None')\n",
    "\n",
    "print(f\"final data shape: {df.shape}\")"
   ]
  },
  {
   "cell_type": "code",
   "execution_count": 4,
   "metadata": {},
   "outputs": [],
   "source": [
    "# Split Data\n",
    "train, val = train_test_split(df, random_state=1)\n",
    "\n",
    "target = 'SalePrice'\n",
    "\n",
    "X_train = train.drop(columns=target)\n",
    "y_train = train[target]\n",
    "X_val = val.drop(columns=target)\n",
    "y_val = val[target]"
   ]
  },
  {
   "cell_type": "code",
   "execution_count": 5,
   "metadata": {},
   "outputs": [],
   "source": [
    "# Preprocess Data\n",
    "pre = make_pipeline(OrdinalEncoder(), SimpleImputer(), StandardScaler())\n",
    "\n",
    "X_train_scaled = pre.fit_transform(X_train)\n",
    "X_val_scaled = pre.transform(X_val)"
   ]
  },
  {
   "cell_type": "code",
   "execution_count": 6,
   "metadata": {},
   "outputs": [
    {
     "output_type": "stream",
     "name": "stdout",
     "text": [
      "Epoch 1/50\n",
      "35/35 [==============================] - 0s 4ms/step - loss: 39392079872.0000 - root_mean_squared_error: 198474.3750 - val_loss: 37902913536.0000 - val_root_mean_squared_error: 194686.7031\n",
      "Epoch 2/50\n",
      "35/35 [==============================] - 0s 1ms/step - loss: 39213993984.0000 - root_mean_squared_error: 198025.2344 - val_loss: 37441720320.0000 - val_root_mean_squared_error: 193498.6250\n",
      "Epoch 3/50\n",
      "35/35 [==============================] - 0s 1ms/step - loss: 37888004096.0000 - root_mean_squared_error: 194648.4062 - val_loss: 34844434432.0000 - val_root_mean_squared_error: 186666.6406\n",
      "Epoch 4/50\n",
      "35/35 [==============================] - 0s 1ms/step - loss: 32709638144.0000 - root_mean_squared_error: 180858.0625 - val_loss: 26613366784.0000 - val_root_mean_squared_error: 163136.0312\n",
      "Epoch 5/50\n",
      "35/35 [==============================] - 0s 1ms/step - loss: 20933357568.0000 - root_mean_squared_error: 144683.6406 - val_loss: 13141282816.0000 - val_root_mean_squared_error: 114635.4375\n",
      "Epoch 6/50\n",
      "35/35 [==============================] - 0s 1ms/step - loss: 9772916736.0000 - root_mean_squared_error: 98858.0625 - val_loss: 6435120128.0000 - val_root_mean_squared_error: 80219.2031\n",
      "Epoch 7/50\n",
      "35/35 [==============================] - 0s 2ms/step - loss: 6423571968.0000 - root_mean_squared_error: 80147.1875 - val_loss: 4594764288.0000 - val_root_mean_squared_error: 67784.6875\n",
      "Epoch 8/50\n",
      "35/35 [==============================] - 0s 1ms/step - loss: 4789265408.0000 - root_mean_squared_error: 69204.5156 - val_loss: 3416431616.0000 - val_root_mean_squared_error: 58450.2500\n",
      "Epoch 9/50\n",
      "35/35 [==============================] - 0s 1ms/step - loss: 3712127488.0000 - root_mean_squared_error: 60927.2305 - val_loss: 2659725056.0000 - val_root_mean_squared_error: 51572.5234\n",
      "Epoch 10/50\n",
      "35/35 [==============================] - 0s 1ms/step - loss: 2987752960.0000 - root_mean_squared_error: 54660.3398 - val_loss: 2287860224.0000 - val_root_mean_squared_error: 47831.5820\n",
      "Epoch 11/50\n",
      "35/35 [==============================] - 0s 1ms/step - loss: 2557579264.0000 - root_mean_squared_error: 50572.5156 - val_loss: 2007312896.0000 - val_root_mean_squared_error: 44803.0469\n",
      "Epoch 12/50\n",
      "35/35 [==============================] - 0s 1ms/step - loss: 2298511872.0000 - root_mean_squared_error: 47942.7969 - val_loss: 1839863168.0000 - val_root_mean_squared_error: 42893.6250\n",
      "Epoch 13/50\n",
      "35/35 [==============================] - 0s 1ms/step - loss: 2082663680.0000 - root_mean_squared_error: 45636.2109 - val_loss: 1742286464.0000 - val_root_mean_squared_error: 41740.7070\n",
      "Epoch 14/50\n",
      "35/35 [==============================] - 0s 1ms/step - loss: 1902797312.0000 - root_mean_squared_error: 43621.0664 - val_loss: 1664796288.0000 - val_root_mean_squared_error: 40801.9141\n",
      "Epoch 15/50\n",
      "35/35 [==============================] - 0s 1ms/step - loss: 1794957952.0000 - root_mean_squared_error: 42366.9453 - val_loss: 1598317696.0000 - val_root_mean_squared_error: 39978.9648\n",
      "Epoch 16/50\n",
      "35/35 [==============================] - 0s 1ms/step - loss: 1690748928.0000 - root_mean_squared_error: 41118.7188 - val_loss: 1514677888.0000 - val_root_mean_squared_error: 38918.8633\n",
      "Epoch 17/50\n",
      "35/35 [==============================] - 0s 1ms/step - loss: 1572435840.0000 - root_mean_squared_error: 39653.9492 - val_loss: 1539129088.0000 - val_root_mean_squared_error: 39231.7344\n",
      "Epoch 18/50\n",
      "35/35 [==============================] - 0s 1ms/step - loss: 1494067072.0000 - root_mean_squared_error: 38653.1641 - val_loss: 1491030272.0000 - val_root_mean_squared_error: 38613.8594\n",
      "Epoch 19/50\n",
      "35/35 [==============================] - 0s 1ms/step - loss: 1429372672.0000 - root_mean_squared_error: 37807.0469 - val_loss: 1456293760.0000 - val_root_mean_squared_error: 38161.4180\n",
      "Epoch 20/50\n",
      "35/35 [==============================] - 0s 1ms/step - loss: 1361461760.0000 - root_mean_squared_error: 36897.9922 - val_loss: 1439715840.0000 - val_root_mean_squared_error: 37943.5859\n",
      "Epoch 21/50\n",
      "35/35 [==============================] - 0s 1ms/step - loss: 1297677952.0000 - root_mean_squared_error: 36023.2969 - val_loss: 1434698112.0000 - val_root_mean_squared_error: 37877.4102\n",
      "Epoch 22/50\n",
      "35/35 [==============================] - 0s 1ms/step - loss: 1249204736.0000 - root_mean_squared_error: 35344.0898 - val_loss: 1400736768.0000 - val_root_mean_squared_error: 37426.4180\n",
      "Epoch 23/50\n",
      "35/35 [==============================] - 0s 1ms/step - loss: 1199077504.0000 - root_mean_squared_error: 34627.6992 - val_loss: 1395742720.0000 - val_root_mean_squared_error: 37359.6406\n",
      "Epoch 24/50\n",
      "35/35 [==============================] - 0s 1ms/step - loss: 1163298560.0000 - root_mean_squared_error: 34107.1641 - val_loss: 1405731584.0000 - val_root_mean_squared_error: 37493.0859\n",
      "Epoch 25/50\n",
      "35/35 [==============================] - 0s 1ms/step - loss: 1114194816.0000 - root_mean_squared_error: 33379.5586 - val_loss: 1402502912.0000 - val_root_mean_squared_error: 37450.0039\n",
      "Epoch 26/50\n",
      "35/35 [==============================] - 0s 1ms/step - loss: 1085474176.0000 - root_mean_squared_error: 32946.5352 - val_loss: 1385577856.0000 - val_root_mean_squared_error: 37223.3516\n",
      "Epoch 27/50\n",
      "35/35 [==============================] - 0s 1ms/step - loss: 1048670464.0000 - root_mean_squared_error: 32383.1816 - val_loss: 1353974912.0000 - val_root_mean_squared_error: 36796.3984\n",
      "Epoch 28/50\n",
      "35/35 [==============================] - 0s 1ms/step - loss: 1008279104.0000 - root_mean_squared_error: 31753.4102 - val_loss: 1362902912.0000 - val_root_mean_squared_error: 36917.5156\n",
      "Epoch 29/50\n",
      "35/35 [==============================] - 0s 1ms/step - loss: 977395968.0000 - root_mean_squared_error: 31263.3320 - val_loss: 1365069312.0000 - val_root_mean_squared_error: 36946.8438\n",
      "Epoch 30/50\n",
      "35/35 [==============================] - 0s 1ms/step - loss: 949515584.0000 - root_mean_squared_error: 30814.2109 - val_loss: 1356685568.0000 - val_root_mean_squared_error: 36833.2109\n",
      "Epoch 31/50\n",
      "35/35 [==============================] - 0s 1ms/step - loss: 926362304.0000 - root_mean_squared_error: 30436.2012 - val_loss: 1349190400.0000 - val_root_mean_squared_error: 36731.3281\n",
      "Epoch 32/50\n",
      "35/35 [==============================] - 0s 1ms/step - loss: 901158592.0000 - root_mean_squared_error: 30019.3027 - val_loss: 1359886592.0000 - val_root_mean_squared_error: 36876.6406\n",
      "Epoch 33/50\n",
      "35/35 [==============================] - 0s 1ms/step - loss: 875910528.0000 - root_mean_squared_error: 29595.7852 - val_loss: 1371111296.0000 - val_root_mean_squared_error: 37028.5195\n",
      "Epoch 34/50\n",
      "35/35 [==============================] - 0s 1ms/step - loss: 862828480.0000 - root_mean_squared_error: 29373.9414 - val_loss: 1363924864.0000 - val_root_mean_squared_error: 36931.3516\n",
      "Epoch 35/50\n",
      "35/35 [==============================] - 0s 1ms/step - loss: 850035584.0000 - root_mean_squared_error: 29155.3691 - val_loss: 1325688576.0000 - val_root_mean_squared_error: 36410.0078\n",
      "Epoch 36/50\n",
      "35/35 [==============================] - 0s 1ms/step - loss: 822993856.0000 - root_mean_squared_error: 28687.8691 - val_loss: 1339425280.0000 - val_root_mean_squared_error: 36598.1602\n",
      "Epoch 37/50\n",
      "35/35 [==============================] - 0s 1ms/step - loss: 794551232.0000 - root_mean_squared_error: 28187.7852 - val_loss: 1354334592.0000 - val_root_mean_squared_error: 36801.2852\n",
      "Epoch 38/50\n",
      "35/35 [==============================] - 0s 1ms/step - loss: 776652096.0000 - root_mean_squared_error: 27868.4785 - val_loss: 1338895744.0000 - val_root_mean_squared_error: 36590.9258\n",
      "Epoch 39/50\n",
      "35/35 [==============================] - 0s 1ms/step - loss: 763370496.0000 - root_mean_squared_error: 27629.1602 - val_loss: 1346201856.0000 - val_root_mean_squared_error: 36690.6250\n",
      "Epoch 40/50\n",
      "35/35 [==============================] - 0s 1ms/step - loss: 741689920.0000 - root_mean_squared_error: 27233.9844 - val_loss: 1342524672.0000 - val_root_mean_squared_error: 36640.4805\n",
      "Epoch 41/50\n",
      "35/35 [==============================] - 0s 1ms/step - loss: 735112768.0000 - root_mean_squared_error: 27112.9629 - val_loss: 1328482304.0000 - val_root_mean_squared_error: 36448.3516\n",
      "Epoch 42/50\n",
      "35/35 [==============================] - 0s 1ms/step - loss: 726000960.0000 - root_mean_squared_error: 26944.4043 - val_loss: 1352342272.0000 - val_root_mean_squared_error: 36774.2070\n",
      "Epoch 43/50\n",
      "35/35 [==============================] - 0s 1ms/step - loss: 701920064.0000 - root_mean_squared_error: 26493.7734 - val_loss: 1338571008.0000 - val_root_mean_squared_error: 36586.4883\n",
      "Epoch 44/50\n",
      "35/35 [==============================] - 0s 1ms/step - loss: 683332096.0000 - root_mean_squared_error: 26140.6211 - val_loss: 1340022272.0000 - val_root_mean_squared_error: 36606.3164\n",
      "Epoch 45/50\n",
      "35/35 [==============================] - 0s 1ms/step - loss: 672579392.0000 - root_mean_squared_error: 25934.1348 - val_loss: 1358601216.0000 - val_root_mean_squared_error: 36859.2070\n",
      "Epoch 46/50\n",
      "35/35 [==============================] - 0s 1ms/step - loss: 661457152.0000 - root_mean_squared_error: 25718.8086 - val_loss: 1345007232.0000 - val_root_mean_squared_error: 36674.3398\n",
      "Epoch 47/50\n",
      "35/35 [==============================] - 0s 2ms/step - loss: 649514880.0000 - root_mean_squared_error: 25485.5820 - val_loss: 1324286848.0000 - val_root_mean_squared_error: 36390.7539\n",
      "Epoch 48/50\n",
      "35/35 [==============================] - 0s 1ms/step - loss: 637128512.0000 - root_mean_squared_error: 25241.4043 - val_loss: 1348697856.0000 - val_root_mean_squared_error: 36724.6211\n",
      "Epoch 49/50\n",
      "35/35 [==============================] - 0s 1ms/step - loss: 628321472.0000 - root_mean_squared_error: 25066.3418 - val_loss: 1348934144.0000 - val_root_mean_squared_error: 36727.8398\n",
      "Epoch 50/50\n",
      "35/35 [==============================] - 0s 1ms/step - loss: 630111424.0000 - root_mean_squared_error: 25102.0195 - val_loss: 1340375168.0000 - val_root_mean_squared_error: 36611.1328\n"
     ]
    },
    {
     "output_type": "execute_result",
     "data": {
      "text/plain": [
       "<keras.callbacks.History at 0x1811be0e070>"
      ]
     },
     "metadata": {},
     "execution_count": 6
    }
   ],
   "source": [
    "n_features = X_train_scaled.shape[1]\n",
    "\n",
    "model = Sequential()\n",
    "model.add(Dense(128, activation='relu', kernel_initializer='he_normal', input_shape=(n_features,)))\n",
    "model.add(Dense(128, activation='relu', kernel_initializer='he_normal'))\n",
    "model.add(Dense(128, activation='relu', kernel_initializer='he_normal'))\n",
    "model.add(Dense(1))\n",
    "\n",
    "model.compile(optimizer='adam', loss='mse', metrics=[RootMeanSquaredError()])\n",
    "model.fit(X_train_scaled, y_train, batch_size=32, epochs=50, validation_data=(X_val_scaled, y_val))"
   ]
  },
  {
   "source": [
    "# Predict test data and save"
   ],
   "cell_type": "markdown",
   "metadata": {}
  },
  {
   "cell_type": "code",
   "execution_count": 17,
   "metadata": {},
   "outputs": [
    {
     "output_type": "stream",
     "name": "stdout",
     "text": [
      "final data shape: (1459, 75)\n[101298.88 148888.56 186576.89 ... 193377.36 106006.48 284044.6 ]\n"
     ]
    }
   ],
   "source": [
    "test = pd.read_csv('test.csv')\n",
    "# Drop anything over 600 missing value\n",
    "test = test.drop(columns=['Alley', 'FireplaceQu', 'PoolQC', 'Fence', 'MiscFeature'])\n",
    "# Then Drop na\n",
    "# df = df.dropna()\n",
    "for col in test.columns:\n",
    "    if test[col].dtypes == 'object':\n",
    "        test[col].fillna('None')\n",
    "\n",
    "print(f\"final data shape: {test.shape}\")\n",
    "\n",
    "y_pred = model.predict(pre.transform(test)).ravel()\n",
    "print(y_pred)\n",
    "\n",
    "submit = pd.DataFrame({'Id': pd.read_csv('sample_submission.csv')['Id'], 'SalePrice': y_pred})\n",
    "\n",
    "submit.to_csv('submission_ver2.csv', index=False)"
   ]
  }
 ]
}